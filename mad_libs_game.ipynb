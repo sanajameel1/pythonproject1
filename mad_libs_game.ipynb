{
  "nbformat": 4,
  "nbformat_minor": 0,
  "metadata": {
    "colab": {
      "provenance": [],
      "authorship_tag": "ABX9TyNcHpeO1zi4f9e+ij/g3OH4",
      "include_colab_link": true
    },
    "kernelspec": {
      "name": "python3",
      "display_name": "Python 3"
    },
    "language_info": {
      "name": "python"
    }
  },
  "cells": [
    {
      "cell_type": "markdown",
      "metadata": {
        "id": "view-in-github",
        "colab_type": "text"
      },
      "source": [
        "<a href=\"https://colab.research.google.com/github/sanajameel1/pythonproject1/blob/main/mad_libs_game.ipynb\" target=\"_parent\"><img src=\"https://colab.research.google.com/assets/colab-badge.svg\" alt=\"Open In Colab\"/></a>"
      ]
    },
    {
      "cell_type": "markdown",
      "source": [
        "# **Mad Libs Game In Python**\n"
      ],
      "metadata": {
        "id": "8TuQklsD4gdJ"
      }
    },
    {
      "cell_type": "code",
      "source": [
        "# user sy input lejiye\n",
        "name = input(\"Enter the boy name: \")\n",
        "programming_language = input(\"Enter a programming language (e.g: python , next js , typescript , html): \")\n",
        "mentor = input(\"Enter the mentor name: \")\n",
        "location = input(\"Enter location eg: governor house\")\n",
        "\n",
        "#story created\n",
        "print(\"/n Here is my little story based on mad libs game!\")\n",
        "print(f\"one's upon a time, there was a boy named {name}.\")\n",
        "print(f\"{name} was very curious and always want to learn new thing\")\n",
        "print(f\"One day, he decided to learn {programming_language} language at {location}\")\n",
        "print(f\"Luckily {name} found a great mentor name as {mentor} who was an expert in {programming_language}.\")\n",
        "print(\"And so , his journey continus...!\")"
      ],
      "metadata": {
        "colab": {
          "base_uri": "https://localhost:8080/"
        },
        "id": "iKFdzd0r46fe",
        "outputId": "87cd7add-af11-4a67-b2d1-f2723c526981"
      },
      "execution_count": 2,
      "outputs": [
        {
          "output_type": "stream",
          "name": "stdout",
          "text": [
            "Enter the boy name: saqib\n",
            "Enter a programming language (e.g: python , next js , typescript , html): python programming\n",
            "Enter the mentor name: sir ali\n",
            "Enter location eg: governor houseGovernor house\n",
            "/n Here is my little story based on mad libs game!\n",
            "one's upon a time, there was a boy named saqib.\n",
            "saqib was very curious and always want to learn new thing\n",
            "One day, he decided to learn python programming language at Governor house\n",
            "Luckily saqib found a great mentor name as sir ali who was an expert in python programming.\n",
            "And so , his journey continus...!\n"
          ]
        }
      ]
    }
  ]
}